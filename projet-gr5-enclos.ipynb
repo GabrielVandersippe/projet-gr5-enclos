{
 "cells": [
  {
   "cell_type": "markdown",
   "metadata": {},
   "source": [
    "Projet Groupe 5 - Enclos\n",
    "---"
   ]
  },
  {
   "cell_type": "markdown",
   "metadata": {},
   "source": [
    "***1 - Étude du problème d'optimisation***"
   ]
  },
  {
   "cell_type": "markdown",
   "metadata": {},
   "source": [
    "**1.** On a : $y_0$ et $y_{N}$ qui sont fixés à $0$. Remarquons de plus que, les $d_i$ étant données, on connaît les $x_i$, et par conséquent, avec la donnée de $y_i$ et $y_{i+1}$, on peut déterminer $\\theta_i$.\n",
    "\n",
    "On en déduit que $z$ possède $N - 1$ composantes.\n",
    "\n",
    "Ensuite, on remarque que si l'on approxime la section d'aire comprise entre $x_i$ et $x_{i+1}$ par un rectangle surmonté du triangle $(x_i,y_i),(x_{i+1},y_i),(x_{i+1}y_{i+1})$, l'aire de cette section se ramène à \n",
    "$$\n",
    "\\begin{split}\n",
    "\\mathcal{A}_i \n",
    "& = y_id_i + \\frac{1}{2}d_i(y_i+y_{i+1}) \\\\\n",
    "& = \\frac{1}{2}d_i(y_i + y_{i+1})\n",
    "\\end{split}\n",
    "$$\n",
    "\n",
    "D'où : \n",
    "$$\n",
    "\\begin{split}\n",
    "\\mathcal{A} \n",
    "& = \\sum^{N-1}_{i=0}{\\mathcal{A}_i} \\\\\n",
    "& = \\sum^{N-1}_{i=0}{\\frac{1}{2}d_i(y_i + y_{i+1})} \\\\\n",
    "& = \\sum^{N-1}_{i=0}{\\frac{1}{2}d_i(y_i)} + \\sum^{N-1}_{i=0}{\\frac{1}{2}d_i(y_{i+1})} \\\\\n",
    "& = \\frac{1}{2}d_0y_0 + \\sum^{N-1}_{i=1}{\\frac{1}{2}d_i(y_i)} + \\sum^{N-1}_{i=1}{\\frac{1}{2}d_{i-1}(y_{i})} \\\\\n",
    "& = \\sum^{N-1}_{i=1}{\\frac{d_i + d_{i+1}}{2}y_i}\n",
    "\\end{split}\n",
    "$$\n",
    "\n",
    "On pose donc :\n",
    "\n",
    "$\\boxed{\n",
    "z = (y_1, ...,y_{N-1}) \\text{ et }\n",
    "c = (\\frac{d_0 + d_{1}}{2},...,\\frac{d_{N-2} + d_{N-1}}{2})}\n",
    "$"
   ]
  },
  {
   "cell_type": "markdown",
   "metadata": {},
   "source": []
  }
 ],
 "metadata": {
  "language_info": {
   "name": "python"
  }
 },
 "nbformat": 4,
 "nbformat_minor": 2
}
